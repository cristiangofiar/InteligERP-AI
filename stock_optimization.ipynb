{
 "cells": [
  {
   "cell_type": "code",
   "execution_count": null,
   "metadata": {},
   "outputs": [],
   "source": [
    "from scipy.optimize import linprog\n",
    "\n",
    "# Definir la función objetivo\n",
    "c = [costo_compra, costo_almacenamiento]  # Costo de compra y almacenamiento\n",
    "\n",
    "# Definir las restricciones\n",
    "A = [[-1, 1], [1, -1], [1, 0], [0, 1]]  # Restricciones lineales de demanda, espacio y presupuesto\n",
    "b = [-demanda_max, -espacio_max, presupuesto_max, 0]  # Lados derecho de las restricciones\n",
    "\n",
    "# Definir los límites de las variables de decisión\n",
    "x_bounds = [(0, None), (0, None)]  # Límites de las variables de compra y almacenamiento\n",
    "\n",
    "# Resolver el problema de optimización\n",
    "res = linprog(c, A_ub=A, b_ub=b, bounds=x_bounds, method='highs')\n",
    "\n",
    "# Obtener los resultados\n",
    "nivel_compra_optimo, nivel_almacenamiento_optimo = res.x\n",
    "costo_optimo = res.fun\n",
    "\n",
    "print(\"Nivel óptimo de compra:\", nivel_compra_optimo)\n",
    "print(\"Nivel óptimo de almacenamiento:\", nivel_almacenamiento_optimo)\n",
    "print(\"Costo óptimo:\", costo_optimo)\n"
   ]
  },
  {
   "cell_type": "code",
   "execution_count": 1,
   "metadata": {},
   "outputs": [
    {
     "name": "stdout",
     "output_type": "stream",
     "text": [
      "Cantidad óptima comprada: 0.0\n",
      "Cantidad óptima almacenada: 0.0\n",
      "Costo total óptimo: 0.0\n"
     ]
    }
   ],
   "source": [
    "from scipy.optimize import linprog\n",
    "\n",
    "# Definir la función objetivo a minimizar\n",
    "c = [10, 1]  # Coeficientes de costo de compra y costo de almacenamiento\n",
    "\n",
    "# Definir las restricciones lineales\n",
    "A = [[10, 1]]  # Coeficientes de costo de compra y costo de almacenamiento\n",
    "b = [500]  # Restricción de presupuesto\n",
    "\n",
    "# Definir los límites de las variables de decisión (cantidad comprada y cantidad almacenada)\n",
    "x_bounds = [(0, None), (0, 100)]\n",
    "\n",
    "# Resolver el problema de optimización\n",
    "res = linprog(c, A_ub=A, b_ub=b, bounds=x_bounds, method='highs')\n",
    "\n",
    "# Obtener los resultados\n",
    "cantidad_comprada_optima, cantidad_almacenada_optima = res.x\n",
    "costo_total_optimo = res.fun\n",
    "\n",
    "print(\"Cantidad óptima comprada:\", cantidad_comprada_optima)\n",
    "print(\"Cantidad óptima almacenada:\", cantidad_almacenada_optima)\n",
    "print(\"Costo total óptimo:\", costo_total_optimo)\n"
   ]
  }
 ],
 "metadata": {
  "kernelspec": {
   "display_name": ".venv",
   "language": "python",
   "name": "python3"
  },
  "language_info": {
   "codemirror_mode": {
    "name": "ipython",
    "version": 3
   },
   "file_extension": ".py",
   "mimetype": "text/x-python",
   "name": "python",
   "nbconvert_exporter": "python",
   "pygments_lexer": "ipython3",
   "version": "3.11.1"
  },
  "orig_nbformat": 4
 },
 "nbformat": 4,
 "nbformat_minor": 2
}

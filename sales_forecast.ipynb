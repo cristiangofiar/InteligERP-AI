{
 "cells": [
  {
   "cell_type": "code",
   "execution_count": 1,
   "metadata": {},
   "outputs": [],
   "source": [
    "import torch\n",
    "import torch.nn as nn\n",
    "import pandas as pd\n",
    "from sklearn.model_selection import train_test_split\n",
    "from torch.utils.data import Dataset, DataLoader\n"
   ]
  },
  {
   "cell_type": "code",
   "execution_count": 2,
   "metadata": {},
   "outputs": [],
   "source": [
    "df = pd.read_csv('data/dataset.csv').drop('date', axis=1)"
   ]
  },
  {
   "cell_type": "code",
   "execution_count": null,
   "metadata": {},
   "outputs": [],
   "source": [
    "class TimeSeriesDataset(Dataset):\n",
    "    def __init__(self, data, labels, sequence_length):\n",
    "        self.data = data\n",
    "        self.labels = labels\n",
    "        self.sequence_length = sequence_length\n",
    "\n",
    "    def __len__(self):\n",
    "        return len(self.data) - self.sequence_length + 1\n",
    "\n",
    "    def __getitem__(self, idx):\n",
    "        end_idx = idx + self.sequence_length\n",
    "        return {\n",
    "            'data': torch.FloatTensor(self.data[idx:end_idx]),\n",
    "            'label': torch.FloatTensor(self.labels[end_idx - 1])\n",
    "        }\n",
    "\n",
    "# Supongamos que tienes 'data' con forma (n_samples, n_timesteps, n_features)\n",
    "# y 'labels' con las etiquetas correspondientes.\n",
    "\n",
    "# División de datos en conjuntos de entrenamiento y prueba\n",
    "X_train, X_test, y_train, y_test = train_test_split(data, labels, test_size=0.2, random_state=42)\n",
    "\n",
    "# Creación de conjuntos de datos de series temporales\n",
    "train_dataset = TimeSeriesDataset(X_train, y_train, sequence_length=n_timesteps)\n",
    "test_dataset = TimeSeriesDataset(X_test, y_test, sequence_length=n_timesteps)\n",
    "\n",
    "# Creación de DataLoader para facilitar el entrenamiento\n",
    "batch_size = 32\n",
    "train_dataloader = DataLoader(train_dataset, batch_size=batch_size, shuffle=True)\n",
    "test_dataloader = DataLoader(test_dataset, batch_size=batch_size, shuffle=False)\n",
    "\n",
    "# Ahora puedes utilizar train_dataloader y test_dataloader para entrenar tu modelo.\n"
   ]
  },
  {
   "cell_type": "code",
   "execution_count": null,
   "metadata": {},
   "outputs": [],
   "source": [
    "class LSTMModel(nn.Module):\n",
    "    def __init__(self, input_size, hidden_size, num_layers, output_size):\n",
    "        super(LSTMModel, self).__init__()\n",
    "        \n",
    "        self.lstm = nn.LSTM(input_size=input_size, \n",
    "                            hidden_size=hidden_size, \n",
    "                            num_layers=num_layers, \n",
    "                            batch_first=True)\n",
    "        \n",
    "        self.fc = nn.Linear(hidden_size, output_size)\n",
    "    \n",
    "    def forward(self, x):\n",
    "        # La entrada x debe tener dimensiones (batch_size, seq_len, input_size)\n",
    "        lstm_out, _ = self.lstm(x)\n",
    "        \n",
    "        # Tomamos el último timestep de la salida de la LSTM\n",
    "        last_timestep = lstm_out[:, -1, :]\n",
    "        \n",
    "        # Pasamos la salida del último timestep a través de una capa lineal\n",
    "        output = self.fc(last_timestep)\n",
    "        \n",
    "        return output\n",
    "\n",
    "# Definimos las dimensiones de entrada y salida de la red\n",
    "input_size = 17  # Número de variables en cada timestep\n",
    "hidden_size = 64  # Tamaño del estado oculto de la LSTM\n",
    "num_layers = 2  # Número de capas en la LSTM\n",
    "output_size = 1  # Tamaño de la salida (pronóstico para el próximo timestep)\n",
    "\n",
    "# Creamos una instancia del modelo\n",
    "model = LSTMModel(input_size, hidden_size, num_layers, output_size)\n",
    "\n",
    "# Definimos la pérdida y el optimizador\n",
    "criterion = nn.MSELoss()\n",
    "optimizer = torch.optim.Adam(model.parameters(), lr=0.001)\n",
    "\n",
    "\n"
   ]
  }
 ],
 "metadata": {
  "kernelspec": {
   "display_name": ".venv",
   "language": "python",
   "name": "python3"
  },
  "language_info": {
   "codemirror_mode": {
    "name": "ipython",
    "version": 3
   },
   "file_extension": ".py",
   "mimetype": "text/x-python",
   "name": "python",
   "nbconvert_exporter": "python",
   "pygments_lexer": "ipython3",
   "version": "3.11.1"
  },
  "orig_nbformat": 4
 },
 "nbformat": 4,
 "nbformat_minor": 2
}

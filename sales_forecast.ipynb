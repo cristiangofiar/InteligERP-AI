{
 "cells": [
  {
   "cell_type": "code",
   "execution_count": 7,
   "metadata": {},
   "outputs": [],
   "source": [
    "import torch\n",
    "import torch.nn as nn\n",
    "import pandas as pd\n",
    "from sklearn.model_selection import train_test_split\n",
    "from torch.utils.data import Dataset, DataLoader\n",
    "from tqdm import tqdm"
   ]
  },
  {
   "cell_type": "code",
   "execution_count": 2,
   "metadata": {},
   "outputs": [],
   "source": [
    "df = pd.read_csv('data/dataset.csv')\n",
    "df = df.sort_values(by=['shop_id', 'item_id', 'date'])"
   ]
  },
  {
   "cell_type": "code",
   "execution_count": 3,
   "metadata": {},
   "outputs": [
    {
     "data": {
      "text/html": [
       "<div>\n",
       "<style scoped>\n",
       "    .dataframe tbody tr th:only-of-type {\n",
       "        vertical-align: middle;\n",
       "    }\n",
       "\n",
       "    .dataframe tbody tr th {\n",
       "        vertical-align: top;\n",
       "    }\n",
       "\n",
       "    .dataframe thead th {\n",
       "        text-align: right;\n",
       "    }\n",
       "</style>\n",
       "<table border=\"1\" class=\"dataframe\">\n",
       "  <thead>\n",
       "    <tr style=\"text-align: right;\">\n",
       "      <th></th>\n",
       "      <th>date</th>\n",
       "      <th>shop_id</th>\n",
       "      <th>item_id</th>\n",
       "      <th>day</th>\n",
       "      <th>month</th>\n",
       "      <th>year</th>\n",
       "      <th>quarter</th>\n",
       "      <th>weekday</th>\n",
       "      <th>is_month_start</th>\n",
       "      <th>is_month_end</th>\n",
       "      <th>acc_month_num</th>\n",
       "      <th>category_id</th>\n",
       "      <th>price</th>\n",
       "      <th>quantity</th>\n",
       "      <th>pbi</th>\n",
       "      <th>OPEP_oil_price</th>\n",
       "      <th>unemployment_rate</th>\n",
       "      <th>IPC_rate</th>\n",
       "    </tr>\n",
       "  </thead>\n",
       "  <tbody>\n",
       "    <tr>\n",
       "      <th>0</th>\n",
       "      <td>2013-10-31</td>\n",
       "      <td>2</td>\n",
       "      <td>1495</td>\n",
       "      <td>31</td>\n",
       "      <td>10</td>\n",
       "      <td>2013</td>\n",
       "      <td>4</td>\n",
       "      <td>3</td>\n",
       "      <td>0</td>\n",
       "      <td>1</td>\n",
       "      <td>0</td>\n",
       "      <td>30</td>\n",
       "      <td>699.0</td>\n",
       "      <td>0</td>\n",
       "      <td>341693.0</td>\n",
       "      <td>106.75</td>\n",
       "      <td>5.5</td>\n",
       "      <td>6.3</td>\n",
       "    </tr>\n",
       "    <tr>\n",
       "      <th>1</th>\n",
       "      <td>2013-10-31</td>\n",
       "      <td>2</td>\n",
       "      <td>1555</td>\n",
       "      <td>31</td>\n",
       "      <td>10</td>\n",
       "      <td>2013</td>\n",
       "      <td>4</td>\n",
       "      <td>3</td>\n",
       "      <td>0</td>\n",
       "      <td>1</td>\n",
       "      <td>0</td>\n",
       "      <td>28</td>\n",
       "      <td>1299.0</td>\n",
       "      <td>0</td>\n",
       "      <td>341693.0</td>\n",
       "      <td>106.75</td>\n",
       "      <td>5.5</td>\n",
       "      <td>6.3</td>\n",
       "    </tr>\n",
       "    <tr>\n",
       "      <th>2</th>\n",
       "      <td>2013-10-31</td>\n",
       "      <td>2</td>\n",
       "      <td>1556</td>\n",
       "      <td>31</td>\n",
       "      <td>10</td>\n",
       "      <td>2013</td>\n",
       "      <td>4</td>\n",
       "      <td>3</td>\n",
       "      <td>0</td>\n",
       "      <td>1</td>\n",
       "      <td>0</td>\n",
       "      <td>20</td>\n",
       "      <td>2999.0</td>\n",
       "      <td>0</td>\n",
       "      <td>341693.0</td>\n",
       "      <td>106.75</td>\n",
       "      <td>5.5</td>\n",
       "      <td>6.3</td>\n",
       "    </tr>\n",
       "    <tr>\n",
       "      <th>3</th>\n",
       "      <td>2013-10-31</td>\n",
       "      <td>2</td>\n",
       "      <td>1855</td>\n",
       "      <td>31</td>\n",
       "      <td>10</td>\n",
       "      <td>2013</td>\n",
       "      <td>4</td>\n",
       "      <td>3</td>\n",
       "      <td>0</td>\n",
       "      <td>1</td>\n",
       "      <td>0</td>\n",
       "      <td>30</td>\n",
       "      <td>1199.0</td>\n",
       "      <td>0</td>\n",
       "      <td>341693.0</td>\n",
       "      <td>106.75</td>\n",
       "      <td>5.5</td>\n",
       "      <td>6.3</td>\n",
       "    </tr>\n",
       "    <tr>\n",
       "      <th>4</th>\n",
       "      <td>2013-10-31</td>\n",
       "      <td>2</td>\n",
       "      <td>1857</td>\n",
       "      <td>31</td>\n",
       "      <td>10</td>\n",
       "      <td>2013</td>\n",
       "      <td>4</td>\n",
       "      <td>3</td>\n",
       "      <td>0</td>\n",
       "      <td>1</td>\n",
       "      <td>0</td>\n",
       "      <td>20</td>\n",
       "      <td>2599.0</td>\n",
       "      <td>0</td>\n",
       "      <td>341693.0</td>\n",
       "      <td>106.75</td>\n",
       "      <td>5.5</td>\n",
       "      <td>6.3</td>\n",
       "    </tr>\n",
       "  </tbody>\n",
       "</table>\n",
       "</div>"
      ],
      "text/plain": [
       "         date  shop_id  item_id  day  month  year  quarter  weekday  \\\n",
       "0  2013-10-31        2     1495   31     10  2013        4        3   \n",
       "1  2013-10-31        2     1555   31     10  2013        4        3   \n",
       "2  2013-10-31        2     1556   31     10  2013        4        3   \n",
       "3  2013-10-31        2     1855   31     10  2013        4        3   \n",
       "4  2013-10-31        2     1857   31     10  2013        4        3   \n",
       "\n",
       "   is_month_start  is_month_end  acc_month_num  category_id   price  quantity  \\\n",
       "0               0             1              0           30   699.0         0   \n",
       "1               0             1              0           28  1299.0         0   \n",
       "2               0             1              0           20  2999.0         0   \n",
       "3               0             1              0           30  1199.0         0   \n",
       "4               0             1              0           20  2599.0         0   \n",
       "\n",
       "        pbi  OPEP_oil_price  unemployment_rate  IPC_rate  \n",
       "0  341693.0          106.75                5.5       6.3  \n",
       "1  341693.0          106.75                5.5       6.3  \n",
       "2  341693.0          106.75                5.5       6.3  \n",
       "3  341693.0          106.75                5.5       6.3  \n",
       "4  341693.0          106.75                5.5       6.3  "
      ]
     },
     "execution_count": 3,
     "metadata": {},
     "output_type": "execute_result"
    }
   ],
   "source": [
    "columns = ['day','month','year','quarter','weekday','is_month_start','is_month_end','acc_month_num','category_id','price','quantity','pbi','OPEP_oil_price','unemployment_rate','IPC_rate']\n",
    "grouped_data = df.groupby(['date', 'shop_id', 'item_id'])[columns].first().reset_index()\n",
    "grouped_data.head()"
   ]
  },
  {
   "cell_type": "code",
   "execution_count": 4,
   "metadata": {},
   "outputs": [
    {
     "data": {
      "text/plain": [
       "torch.Size([6254, 731, 15])"
      ]
     },
     "execution_count": 4,
     "metadata": {},
     "output_type": "execute_result"
    }
   ],
   "source": [
    "unique_dates = df['date'].unique()\n",
    "unique_shop_item = df[['shop_id', 'item_id']].drop_duplicates()\n",
    "columns = ['day','month','year','quarter','weekday','is_month_start','is_month_end','acc_month_num','category_id','price','quantity','pbi','OPEP_oil_price','unemployment_rate','IPC_rate']\n",
    "num_steps = len(unique_dates)\n",
    "num_features = len(df.columns) - 3  # Excluyendo 'date', 'shop_id', 'item_id'\n",
    "\n",
    "# Agrupa los datos por fecha, tienda y artículo\n",
    "grouped_data = df.groupby(['date', 'shop_id', 'item_id'])[columns].first().reset_index()\n",
    "\n",
    "# Crea un diccionario para mapear las fechas a índices en el tensor\n",
    "date_index_mapping = {date: i for i, date in enumerate(unique_dates)}\n",
    "\n",
    "# Inicializa un tensor con ceros\n",
    "tensor = torch.zeros((len(unique_shop_item), num_steps, num_features))\n",
    "\n",
    "\n",
    "\n",
    "# Llena el tensor con los valores correspondientes\n",
    "for index, row in grouped_data.iterrows():\n",
    "    date_index = date_index_mapping[row['date']]\n",
    "    shop_item_index = unique_shop_item.index[(unique_shop_item['shop_id'] == row['shop_id']) & (unique_shop_item['item_id'] == row['item_id'])][0]\n",
    "    numeric_data = row[columns].apply(pd.to_numeric, errors='coerce').values\n",
    "    tensor[shop_item_index, date_index, :] = torch.tensor(numeric_data)\n",
    "\n",
    "\n",
    "\n",
    "# Necesitamos llenar este tensor con los valores de la base de datos + las APIs\n",
    "# Necesitamos llenar este tensor con los valores de la base de datos + las APIs\n",
    "# Necesitamos llenar este tensor con los valores de la base de datos + las APIs\n",
    "# Necesitamos llenar este tensor con los valores de la base de datos + las APIs\n",
    "\n",
    "\n",
    "\n",
    "tensor.shape"
   ]
  },
  {
   "cell_type": "code",
   "execution_count": 5,
   "metadata": {},
   "outputs": [
    {
     "data": {
      "text/html": [
       "<div>\n",
       "<style scoped>\n",
       "    .dataframe tbody tr th:only-of-type {\n",
       "        vertical-align: middle;\n",
       "    }\n",
       "\n",
       "    .dataframe tbody tr th {\n",
       "        vertical-align: top;\n",
       "    }\n",
       "\n",
       "    .dataframe thead th {\n",
       "        text-align: right;\n",
       "    }\n",
       "</style>\n",
       "<table border=\"1\" class=\"dataframe\">\n",
       "  <thead>\n",
       "    <tr style=\"text-align: right;\">\n",
       "      <th></th>\n",
       "      <th>day</th>\n",
       "      <th>month</th>\n",
       "      <th>year</th>\n",
       "      <th>quarter</th>\n",
       "      <th>weekday</th>\n",
       "      <th>is_month_start</th>\n",
       "      <th>is_month_end</th>\n",
       "      <th>acc_month_num</th>\n",
       "      <th>category_id</th>\n",
       "      <th>price</th>\n",
       "      <th>quantity</th>\n",
       "      <th>pbi</th>\n",
       "      <th>OPEP_oil_price</th>\n",
       "      <th>unemployment_rate</th>\n",
       "      <th>IPC_rate</th>\n",
       "    </tr>\n",
       "  </thead>\n",
       "  <tbody>\n",
       "    <tr>\n",
       "      <th>0</th>\n",
       "      <td>31.0</td>\n",
       "      <td>10.0</td>\n",
       "      <td>2013.0</td>\n",
       "      <td>4.0</td>\n",
       "      <td>3.0</td>\n",
       "      <td>0.0</td>\n",
       "      <td>1.0</td>\n",
       "      <td>0.0</td>\n",
       "      <td>30.0</td>\n",
       "      <td>699.0</td>\n",
       "      <td>0.0</td>\n",
       "      <td>341693.0</td>\n",
       "      <td>106.750000</td>\n",
       "      <td>5.5</td>\n",
       "      <td>6.3</td>\n",
       "    </tr>\n",
       "    <tr>\n",
       "      <th>1</th>\n",
       "      <td>1.0</td>\n",
       "      <td>11.0</td>\n",
       "      <td>2013.0</td>\n",
       "      <td>4.0</td>\n",
       "      <td>4.0</td>\n",
       "      <td>1.0</td>\n",
       "      <td>0.0</td>\n",
       "      <td>1.0</td>\n",
       "      <td>30.0</td>\n",
       "      <td>699.0</td>\n",
       "      <td>0.0</td>\n",
       "      <td>341693.0</td>\n",
       "      <td>105.529999</td>\n",
       "      <td>5.4</td>\n",
       "      <td>6.5</td>\n",
       "    </tr>\n",
       "    <tr>\n",
       "      <th>2</th>\n",
       "      <td>2.0</td>\n",
       "      <td>11.0</td>\n",
       "      <td>2013.0</td>\n",
       "      <td>4.0</td>\n",
       "      <td>5.0</td>\n",
       "      <td>0.0</td>\n",
       "      <td>0.0</td>\n",
       "      <td>1.0</td>\n",
       "      <td>30.0</td>\n",
       "      <td>699.0</td>\n",
       "      <td>0.0</td>\n",
       "      <td>341693.0</td>\n",
       "      <td>105.529999</td>\n",
       "      <td>5.4</td>\n",
       "      <td>6.5</td>\n",
       "    </tr>\n",
       "    <tr>\n",
       "      <th>3</th>\n",
       "      <td>3.0</td>\n",
       "      <td>11.0</td>\n",
       "      <td>2013.0</td>\n",
       "      <td>4.0</td>\n",
       "      <td>6.0</td>\n",
       "      <td>0.0</td>\n",
       "      <td>0.0</td>\n",
       "      <td>1.0</td>\n",
       "      <td>30.0</td>\n",
       "      <td>699.0</td>\n",
       "      <td>0.0</td>\n",
       "      <td>341693.0</td>\n",
       "      <td>105.529999</td>\n",
       "      <td>5.4</td>\n",
       "      <td>6.5</td>\n",
       "    </tr>\n",
       "    <tr>\n",
       "      <th>4</th>\n",
       "      <td>4.0</td>\n",
       "      <td>11.0</td>\n",
       "      <td>2013.0</td>\n",
       "      <td>4.0</td>\n",
       "      <td>0.0</td>\n",
       "      <td>0.0</td>\n",
       "      <td>0.0</td>\n",
       "      <td>1.0</td>\n",
       "      <td>30.0</td>\n",
       "      <td>699.0</td>\n",
       "      <td>0.0</td>\n",
       "      <td>341693.0</td>\n",
       "      <td>104.220001</td>\n",
       "      <td>5.4</td>\n",
       "      <td>6.5</td>\n",
       "    </tr>\n",
       "  </tbody>\n",
       "</table>\n",
       "</div>"
      ],
      "text/plain": [
       "    day  month    year  quarter  weekday  is_month_start  is_month_end  \\\n",
       "0  31.0   10.0  2013.0      4.0      3.0             0.0           1.0   \n",
       "1   1.0   11.0  2013.0      4.0      4.0             1.0           0.0   \n",
       "2   2.0   11.0  2013.0      4.0      5.0             0.0           0.0   \n",
       "3   3.0   11.0  2013.0      4.0      6.0             0.0           0.0   \n",
       "4   4.0   11.0  2013.0      4.0      0.0             0.0           0.0   \n",
       "\n",
       "   acc_month_num  category_id  price  quantity       pbi  OPEP_oil_price  \\\n",
       "0            0.0         30.0  699.0       0.0  341693.0      106.750000   \n",
       "1            1.0         30.0  699.0       0.0  341693.0      105.529999   \n",
       "2            1.0         30.0  699.0       0.0  341693.0      105.529999   \n",
       "3            1.0         30.0  699.0       0.0  341693.0      105.529999   \n",
       "4            1.0         30.0  699.0       0.0  341693.0      104.220001   \n",
       "\n",
       "   unemployment_rate  IPC_rate  \n",
       "0                5.5       6.3  \n",
       "1                5.4       6.5  \n",
       "2                5.4       6.5  \n",
       "3                5.4       6.5  \n",
       "4                5.4       6.5  "
      ]
     },
     "execution_count": 5,
     "metadata": {},
     "output_type": "execute_result"
    }
   ],
   "source": [
    "pd.DataFrame(tensor[0, :, :].numpy(), columns=columns).head()"
   ]
  },
  {
   "cell_type": "code",
   "execution_count": 13,
   "metadata": {},
   "outputs": [],
   "source": [
    "class TimeSeriesDataset(Dataset):\n",
    "    def __init__(self, data, sequence_length):\n",
    "        self.data = data\n",
    "        self.sequence_length = sequence_length\n",
    "\n",
    "    def __len__(self):\n",
    "        return self.data.shape[0] - self.sequence_length + 1\n",
    "\n",
    "    def __getitem__(self, idx):\n",
    "        return {\n",
    "            'data': self.data[idx, :self.sequence_length, :],\n",
    "            'label': self.data[idx, self.sequence_length, :]\n",
    "        }\n",
    "\n",
    "\n",
    "x_train, x_test = train_test_split(tensor, test_size=0.1, shuffle=False)\n",
    "x_train, x_test = x_train[:-1], x_test[:-1]\n",
    "\n",
    "window_size = 30\n",
    "train_dataset = TimeSeriesDataset(x_train, sequence_length=window_size)\n",
    "test_dataset = TimeSeriesDataset(x_test, sequence_length=window_size)\n",
    "\n",
    "batch_size = 61 # 1, 2, 41, 61, 82, 122, 2501 (divisores enteros de 5002)\n",
    "train_dataloader = DataLoader(train_dataset, batch_size=batch_size, shuffle=True)\n",
    "test_dataloader = DataLoader(test_dataset, batch_size=batch_size, shuffle=False)\n"
   ]
  },
  {
   "cell_type": "code",
   "execution_count": 9,
   "metadata": {},
   "outputs": [],
   "source": [
    "######## Ahora toca definir el modelo ######### \n",
    "######## Ahora toca definir el modelo ######### \n",
    "######## Ahora toca definir el modelo ######### \n",
    "######## Ahora toca definir el modelo ######### \n",
    "\n",
    "\n",
    "class LSTMModel(nn.Module):\n",
    "    def __init__(self, input_size, hidden_size, num_layers, output_size):\n",
    "        super(LSTMModel, self).__init__()\n",
    "        \n",
    "        self.lstm = nn.LSTM(input_size=input_size, \n",
    "                            hidden_size=hidden_size, \n",
    "                            num_layers=num_layers, \n",
    "                            batch_first=True)\n",
    "        \n",
    "        self.fc = nn.Linear(hidden_size, output_size)\n",
    "    \n",
    "    def forward(self, x):\n",
    "        # La entrada x debe tener dimensiones (batch_size, seq_len, input_size)\n",
    "        lstm_out, _ = self.lstm(x)\n",
    "        \n",
    "        # Tomamos el último timestep de la salida de la LSTM\n",
    "        last_timestep = lstm_out[:, -1, :]\n",
    "        \n",
    "        # Pasamos la salida del último timestep a través de una capa lineal\n",
    "        output = self.fc(last_timestep)\n",
    "        \n",
    "        return output\n"
   ]
  },
  {
   "cell_type": "code",
   "execution_count": 20,
   "metadata": {},
   "outputs": [
    {
     "name": "stderr",
     "output_type": "stream",
     "text": [
      "100%|██████████| 92/92 [00:29<00:00,  3.14it/s]\n",
      "100%|██████████| 10/10 [00:01<00:00,  9.10it/s]\n",
      " 10%|█         | 1/10 [00:30<04:33, 30.37s/it]"
     ]
    },
    {
     "name": "stdout",
     "output_type": "stream",
     "text": [
      "Epoch [1/10], Loss: 7291065597.4228\n"
     ]
    },
    {
     "name": "stderr",
     "output_type": "stream",
     "text": [
      "100%|██████████| 92/92 [00:28<00:00,  3.24it/s]\n",
      "100%|██████████| 10/10 [00:01<00:00,  9.24it/s]\n",
      " 20%|██        | 2/10 [00:59<03:58, 29.82s/it]"
     ]
    },
    {
     "name": "stdout",
     "output_type": "stream",
     "text": [
      "Epoch [2/10], Loss: 7255390898.6846\n"
     ]
    },
    {
     "name": "stderr",
     "output_type": "stream",
     "text": [
      "100%|██████████| 92/92 [00:29<00:00,  3.17it/s]\n",
      "100%|██████████| 10/10 [00:01<00:00,  9.17it/s]\n",
      " 30%|███       | 3/10 [01:29<03:29, 29.96s/it]"
     ]
    },
    {
     "name": "stdout",
     "output_type": "stream",
     "text": [
      "Epoch [3/10], Loss: 7255069850.6309\n"
     ]
    },
    {
     "name": "stderr",
     "output_type": "stream",
     "text": [
      "100%|██████████| 92/92 [00:29<00:00,  3.12it/s]\n",
      "100%|██████████| 10/10 [00:01<00:00,  9.10it/s]\n",
      " 40%|████      | 4/10 [02:00<03:01, 30.19s/it]"
     ]
    },
    {
     "name": "stdout",
     "output_type": "stream",
     "text": [
      "Epoch [4/10], Loss: 7255069955.4362\n"
     ]
    },
    {
     "name": "stderr",
     "output_type": "stream",
     "text": [
      "100%|██████████| 92/92 [00:29<00:00,  3.14it/s]\n",
      "100%|██████████| 10/10 [00:01<00:00,  9.14it/s]\n",
      " 50%|█████     | 5/10 [02:30<02:31, 30.27s/it]"
     ]
    },
    {
     "name": "stdout",
     "output_type": "stream",
     "text": [
      "Epoch [5/10], Loss: 7255071281.8255\n"
     ]
    },
    {
     "name": "stderr",
     "output_type": "stream",
     "text": [
      "100%|██████████| 92/92 [00:29<00:00,  3.15it/s]\n",
      "100%|██████████| 10/10 [00:01<00:00,  8.62it/s]\n",
      " 60%|██████    | 6/10 [03:01<02:01, 30.32s/it]"
     ]
    },
    {
     "name": "stdout",
     "output_type": "stream",
     "text": [
      "Epoch [6/10], Loss: 7255071072.2148\n"
     ]
    },
    {
     "name": "stderr",
     "output_type": "stream",
     "text": [
      "100%|██████████| 92/92 [00:29<00:00,  3.13it/s]\n",
      "100%|██████████| 10/10 [00:01<00:00,  8.12it/s]\n",
      " 70%|███████   | 7/10 [03:31<01:31, 30.41s/it]"
     ]
    },
    {
     "name": "stdout",
     "output_type": "stream",
     "text": [
      "Epoch [7/10], Loss: 7255070427.0604\n"
     ]
    },
    {
     "name": "stderr",
     "output_type": "stream",
     "text": [
      "100%|██████████| 92/92 [00:31<00:00,  2.92it/s]\n",
      "100%|██████████| 10/10 [00:01<00:00,  8.53it/s]\n",
      " 80%|████████  | 8/10 [04:04<01:02, 31.13s/it]"
     ]
    },
    {
     "name": "stdout",
     "output_type": "stream",
     "text": [
      "Epoch [8/10], Loss: 7255070677.0470\n"
     ]
    },
    {
     "name": "stderr",
     "output_type": "stream",
     "text": [
      "100%|██████████| 92/92 [00:30<00:00,  3.01it/s]\n",
      "100%|██████████| 10/10 [00:01<00:00,  8.67it/s]\n",
      " 90%|█████████ | 9/10 [04:36<00:31, 31.33s/it]"
     ]
    },
    {
     "name": "stdout",
     "output_type": "stream",
     "text": [
      "Epoch [9/10], Loss: 7255069903.0336\n"
     ]
    },
    {
     "name": "stderr",
     "output_type": "stream",
     "text": [
      "100%|██████████| 92/92 [00:30<00:00,  2.97it/s]\n",
      "100%|██████████| 10/10 [00:01<00:00,  8.98it/s]\n",
      "100%|██████████| 10/10 [05:08<00:00, 30.84s/it]"
     ]
    },
    {
     "name": "stdout",
     "output_type": "stream",
     "text": [
      "Epoch [10/10], Loss: 7255069443.4362\n"
     ]
    },
    {
     "name": "stderr",
     "output_type": "stream",
     "text": [
      "\n"
     ]
    }
   ],
   "source": [
    "\n",
    "# Definimos las dimensiones de entrada y salida de la red\n",
    "input_size = 15  # Número de variables en cada timestep\n",
    "hidden_size = 512  # Tamaño del estado oculto de la LSTM\n",
    "num_layers = 5  # Número de capas en la LSTM\n",
    "output_size = 1  # Tamaño de la salida (pronóstico para el próximo timestep)\n",
    "\n",
    "# Creamos una instancia del modelo\n",
    "model = LSTMModel(input_size, hidden_size, num_layers, output_size)\n",
    "\n",
    "# Definir la función de pérdida y el optimizador\n",
    "criterion = nn.MSELoss()  # Usar la pérdida del error cuadrático medio para la tarea de regresión\n",
    "optimizer = torch.optim.Adam(model.parameters(), lr=1)  # Usar el optimizador Adam\n",
    "\n",
    "# Definir el número de épocas\n",
    "num_epochs = 10\n",
    "\n",
    "# Bucle de entrenamiento\n",
    "for epoch in tqdm(range(num_epochs)):\n",
    "    model.train()  # Poner el modelo en modo de entrenamiento\n",
    "    for batch in tqdm(train_dataloader):\n",
    "        # Obtener los datos y las etiquetas del batch\n",
    "        data = batch['data']\n",
    "        labels = batch['label']\n",
    "\n",
    "        # Pasar los datos a través del modelo\n",
    "        outputs = model(data)\n",
    "\n",
    "        # Calcular la pérdida\n",
    "        loss = criterion(outputs, labels)\n",
    "\n",
    "        # Retropropagar y optimizar\n",
    "        optimizer.zero_grad()\n",
    "        loss.backward()\n",
    "        optimizer.step()\n",
    "\n",
    "    # Bucle de prueba\n",
    "    model.eval()  # Poner el modelo en modo de evaluación\n",
    "    with torch.no_grad():  # Desactivar el cálculo de gradientes para mejorar la eficiencia\n",
    "        total_loss = 0\n",
    "        total_samples = 0\n",
    "        for batch in tqdm(test_dataloader):\n",
    "            # Obtener los datos y las etiquetas del batch\n",
    "            data = batch['data']\n",
    "            labels = batch['label']\n",
    "\n",
    "            # Pasar los datos a través del modelo\n",
    "            outputs = model(data)\n",
    "\n",
    "            # Calcular la pérdida\n",
    "            loss = criterion(outputs, labels)\n",
    "\n",
    "            total_loss += loss.item() * data.size(0)\n",
    "            total_samples += data.size(0)\n",
    "\n",
    "        # Calcular la pérdida media\n",
    "        avg_loss = total_loss / total_samples\n",
    "\n",
    "    print(f'Epoch [{epoch+1}/{num_epochs}], Loss: {avg_loss:.4f}')\n"
   ]
  }
 ],
 "metadata": {
  "kernelspec": {
   "display_name": ".venv",
   "language": "python",
   "name": "python3"
  },
  "language_info": {
   "codemirror_mode": {
    "name": "ipython",
    "version": 3
   },
   "file_extension": ".py",
   "mimetype": "text/x-python",
   "name": "python",
   "nbconvert_exporter": "python",
   "pygments_lexer": "ipython3",
   "version": "3.11.1"
  },
  "orig_nbformat": 4
 },
 "nbformat": 4,
 "nbformat_minor": 2
}
